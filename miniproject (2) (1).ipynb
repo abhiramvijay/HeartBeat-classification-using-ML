{
 "cells": [
  {
   "cell_type": "code",
   "execution_count": 1,
   "id": "a56a8e03",
   "metadata": {},
   "outputs": [
    {
     "name": "stdout",
     "output_type": "stream",
     "text": [
      "Defaulting to user installation because normal site-packages is not writeable\n",
      "Requirement already satisfied: kaggle in c:\\users\\student\\appdata\\roaming\\python\\python39\\site-packages (1.6.6)\n",
      "Requirement already satisfied: bleach in c:\\programdata\\anaconda3\\lib\\site-packages (from kaggle) (4.1.0)\n",
      "Requirement already satisfied: tqdm in c:\\programdata\\anaconda3\\lib\\site-packages (from kaggle) (4.64.1)\n",
      "Requirement already satisfied: urllib3 in c:\\programdata\\anaconda3\\lib\\site-packages (from kaggle) (1.26.11)\n",
      "Requirement already satisfied: python-dateutil in c:\\programdata\\anaconda3\\lib\\site-packages (from kaggle) (2.8.2)\n",
      "Requirement already satisfied: requests in c:\\programdata\\anaconda3\\lib\\site-packages (from kaggle) (2.28.1)\n",
      "Requirement already satisfied: python-slugify in c:\\programdata\\anaconda3\\lib\\site-packages (from kaggle) (5.0.2)\n",
      "Requirement already satisfied: certifi in c:\\programdata\\anaconda3\\lib\\site-packages (from kaggle) (2022.9.14)\n",
      "Requirement already satisfied: six>=1.10 in c:\\programdata\\anaconda3\\lib\\site-packages (from kaggle) (1.16.0)\n",
      "Requirement already satisfied: packaging in c:\\programdata\\anaconda3\\lib\\site-packages (from bleach->kaggle) (21.3)\n",
      "Requirement already satisfied: webencodings in c:\\programdata\\anaconda3\\lib\\site-packages (from bleach->kaggle) (0.5.1)\n",
      "Requirement already satisfied: text-unidecode>=1.3 in c:\\programdata\\anaconda3\\lib\\site-packages (from python-slugify->kaggle) (1.3)\n",
      "Requirement already satisfied: idna<4,>=2.5 in c:\\programdata\\anaconda3\\lib\\site-packages (from requests->kaggle) (3.3)\n",
      "Requirement already satisfied: charset-normalizer<3,>=2 in c:\\programdata\\anaconda3\\lib\\site-packages (from requests->kaggle) (2.0.4)\n",
      "Requirement already satisfied: colorama in c:\\programdata\\anaconda3\\lib\\site-packages (from tqdm->kaggle) (0.4.5)\n",
      "Requirement already satisfied: pyparsing!=3.0.5,>=2.0.2 in c:\\programdata\\anaconda3\\lib\\site-packages (from packaging->bleach->kaggle) (3.0.9)\n",
      "Note: you may need to restart the kernel to use updated packages.\n"
     ]
    }
   ],
   "source": [
    "pip install kaggle"
   ]
  },
  {
   "cell_type": "code",
   "execution_count": 2,
   "id": "0768e636",
   "metadata": {},
   "outputs": [],
   "source": [
    "import pandas as pd\n",
    "import numpy as np"
   ]
  },
  {
   "cell_type": "code",
   "execution_count": 3,
   "id": "2c7fd0df",
   "metadata": {},
   "outputs": [
    {
     "data": {
      "text/plain": [
       "(107775, 182)"
      ]
     },
     "execution_count": 3,
     "metadata": {},
     "output_type": "execute_result"
    }
   ],
   "source": [
    "data=pd.read_csv('MIT-BIH_preprocessed.csv')\n",
    "data.shape"
   ]
  },
  {
   "cell_type": "code",
   "execution_count": 4,
   "id": "835b70d2",
   "metadata": {},
   "outputs": [
    {
     "data": {
      "text/html": [
       "<div>\n",
       "<style scoped>\n",
       "    .dataframe tbody tr th:only-of-type {\n",
       "        vertical-align: middle;\n",
       "    }\n",
       "\n",
       "    .dataframe tbody tr th {\n",
       "        vertical-align: top;\n",
       "    }\n",
       "\n",
       "    .dataframe thead th {\n",
       "        text-align: right;\n",
       "    }\n",
       "</style>\n",
       "<table border=\"1\" class=\"dataframe\">\n",
       "  <thead>\n",
       "    <tr style=\"text-align: right;\">\n",
       "      <th></th>\n",
       "      <th>Unnamed: 0</th>\n",
       "      <th>0</th>\n",
       "      <th>1</th>\n",
       "      <th>2</th>\n",
       "      <th>3</th>\n",
       "      <th>4</th>\n",
       "      <th>5</th>\n",
       "      <th>6</th>\n",
       "      <th>7</th>\n",
       "      <th>8</th>\n",
       "      <th>...</th>\n",
       "      <th>171</th>\n",
       "      <th>172</th>\n",
       "      <th>173</th>\n",
       "      <th>174</th>\n",
       "      <th>175</th>\n",
       "      <th>176</th>\n",
       "      <th>177</th>\n",
       "      <th>178</th>\n",
       "      <th>179</th>\n",
       "      <th>target</th>\n",
       "    </tr>\n",
       "  </thead>\n",
       "  <tbody>\n",
       "    <tr>\n",
       "      <th>0</th>\n",
       "      <td>0</td>\n",
       "      <td>0.006723</td>\n",
       "      <td>-0.019156</td>\n",
       "      <td>0.032603</td>\n",
       "      <td>0.006723</td>\n",
       "      <td>0.084363</td>\n",
       "      <td>0.032603</td>\n",
       "      <td>0.032603</td>\n",
       "      <td>0.006723</td>\n",
       "      <td>0.006723</td>\n",
       "      <td>...</td>\n",
       "      <td>-0.536756</td>\n",
       "      <td>-0.562636</td>\n",
       "      <td>-0.614396</td>\n",
       "      <td>-0.588516</td>\n",
       "      <td>-0.666156</td>\n",
       "      <td>-0.640276</td>\n",
       "      <td>-0.640276</td>\n",
       "      <td>-0.588516</td>\n",
       "      <td>-0.640276</td>\n",
       "      <td>1</td>\n",
       "    </tr>\n",
       "    <tr>\n",
       "      <th>1</th>\n",
       "      <td>1</td>\n",
       "      <td>-0.122676</td>\n",
       "      <td>-0.200316</td>\n",
       "      <td>-0.200316</td>\n",
       "      <td>-0.252076</td>\n",
       "      <td>-0.226196</td>\n",
       "      <td>-0.174436</td>\n",
       "      <td>-0.122676</td>\n",
       "      <td>-0.174436</td>\n",
       "      <td>-0.174436</td>\n",
       "      <td>...</td>\n",
       "      <td>-0.562636</td>\n",
       "      <td>-0.510876</td>\n",
       "      <td>-0.510876</td>\n",
       "      <td>-0.536756</td>\n",
       "      <td>-0.562636</td>\n",
       "      <td>-0.588516</td>\n",
       "      <td>-0.588516</td>\n",
       "      <td>-0.614396</td>\n",
       "      <td>-0.562636</td>\n",
       "      <td>1</td>\n",
       "    </tr>\n",
       "    <tr>\n",
       "      <th>2</th>\n",
       "      <td>2</td>\n",
       "      <td>-0.355596</td>\n",
       "      <td>-0.407356</td>\n",
       "      <td>-0.252076</td>\n",
       "      <td>-0.277956</td>\n",
       "      <td>-0.252076</td>\n",
       "      <td>-0.277956</td>\n",
       "      <td>-0.277956</td>\n",
       "      <td>-0.329716</td>\n",
       "      <td>-0.277956</td>\n",
       "      <td>...</td>\n",
       "      <td>-0.329716</td>\n",
       "      <td>-0.355596</td>\n",
       "      <td>-0.407356</td>\n",
       "      <td>-0.433236</td>\n",
       "      <td>-0.433236</td>\n",
       "      <td>-0.355596</td>\n",
       "      <td>-0.303836</td>\n",
       "      <td>-0.407356</td>\n",
       "      <td>-0.381476</td>\n",
       "      <td>1</td>\n",
       "    </tr>\n",
       "    <tr>\n",
       "      <th>3</th>\n",
       "      <td>3</td>\n",
       "      <td>-0.200316</td>\n",
       "      <td>-0.200316</td>\n",
       "      <td>-0.226196</td>\n",
       "      <td>-0.252076</td>\n",
       "      <td>-0.200316</td>\n",
       "      <td>-0.122676</td>\n",
       "      <td>-0.122676</td>\n",
       "      <td>-0.148556</td>\n",
       "      <td>-0.148556</td>\n",
       "      <td>...</td>\n",
       "      <td>-0.614396</td>\n",
       "      <td>-0.614396</td>\n",
       "      <td>-0.614396</td>\n",
       "      <td>-0.588516</td>\n",
       "      <td>-0.614396</td>\n",
       "      <td>-0.743796</td>\n",
       "      <td>-0.717916</td>\n",
       "      <td>-0.743796</td>\n",
       "      <td>-0.666156</td>\n",
       "      <td>1</td>\n",
       "    </tr>\n",
       "    <tr>\n",
       "      <th>4</th>\n",
       "      <td>4</td>\n",
       "      <td>-0.174436</td>\n",
       "      <td>-0.174436</td>\n",
       "      <td>-0.174436</td>\n",
       "      <td>-0.096796</td>\n",
       "      <td>-0.096796</td>\n",
       "      <td>-0.096796</td>\n",
       "      <td>-0.200316</td>\n",
       "      <td>-0.226196</td>\n",
       "      <td>-0.174436</td>\n",
       "      <td>...</td>\n",
       "      <td>-0.459116</td>\n",
       "      <td>-0.459116</td>\n",
       "      <td>-0.510876</td>\n",
       "      <td>-0.536756</td>\n",
       "      <td>-0.614396</td>\n",
       "      <td>-0.614396</td>\n",
       "      <td>-0.536756</td>\n",
       "      <td>-0.536756</td>\n",
       "      <td>-0.588516</td>\n",
       "      <td>1</td>\n",
       "    </tr>\n",
       "  </tbody>\n",
       "</table>\n",
       "<p>5 rows × 182 columns</p>\n",
       "</div>"
      ],
      "text/plain": [
       "   Unnamed: 0         0         1         2         3         4         5  \\\n",
       "0           0  0.006723 -0.019156  0.032603  0.006723  0.084363  0.032603   \n",
       "1           1 -0.122676 -0.200316 -0.200316 -0.252076 -0.226196 -0.174436   \n",
       "2           2 -0.355596 -0.407356 -0.252076 -0.277956 -0.252076 -0.277956   \n",
       "3           3 -0.200316 -0.200316 -0.226196 -0.252076 -0.200316 -0.122676   \n",
       "4           4 -0.174436 -0.174436 -0.174436 -0.096796 -0.096796 -0.096796   \n",
       "\n",
       "          6         7         8  ...       171       172       173       174  \\\n",
       "0  0.032603  0.006723  0.006723  ... -0.536756 -0.562636 -0.614396 -0.588516   \n",
       "1 -0.122676 -0.174436 -0.174436  ... -0.562636 -0.510876 -0.510876 -0.536756   \n",
       "2 -0.277956 -0.329716 -0.277956  ... -0.329716 -0.355596 -0.407356 -0.433236   \n",
       "3 -0.122676 -0.148556 -0.148556  ... -0.614396 -0.614396 -0.614396 -0.588516   \n",
       "4 -0.200316 -0.226196 -0.174436  ... -0.459116 -0.459116 -0.510876 -0.536756   \n",
       "\n",
       "        175       176       177       178       179  target  \n",
       "0 -0.666156 -0.640276 -0.640276 -0.588516 -0.640276       1  \n",
       "1 -0.562636 -0.588516 -0.588516 -0.614396 -0.562636       1  \n",
       "2 -0.433236 -0.355596 -0.303836 -0.407356 -0.381476       1  \n",
       "3 -0.614396 -0.743796 -0.717916 -0.743796 -0.666156       1  \n",
       "4 -0.614396 -0.614396 -0.536756 -0.536756 -0.588516       1  \n",
       "\n",
       "[5 rows x 182 columns]"
      ]
     },
     "execution_count": 4,
     "metadata": {},
     "output_type": "execute_result"
    }
   ],
   "source": [
    "data.head()"
   ]
  },
  {
   "cell_type": "code",
   "execution_count": 5,
   "id": "bb79b833",
   "metadata": {},
   "outputs": [],
   "source": [
    "x=data.iloc[:,1:]\n",
    "y=data[['target']]\n"
   ]
  },
  {
   "cell_type": "code",
   "execution_count": 6,
   "id": "59fa0c53",
   "metadata": {},
   "outputs": [
    {
     "data": {
      "text/html": [
       "<div>\n",
       "<style scoped>\n",
       "    .dataframe tbody tr th:only-of-type {\n",
       "        vertical-align: middle;\n",
       "    }\n",
       "\n",
       "    .dataframe tbody tr th {\n",
       "        vertical-align: top;\n",
       "    }\n",
       "\n",
       "    .dataframe thead th {\n",
       "        text-align: right;\n",
       "    }\n",
       "</style>\n",
       "<table border=\"1\" class=\"dataframe\">\n",
       "  <thead>\n",
       "    <tr style=\"text-align: right;\">\n",
       "      <th></th>\n",
       "      <th>0</th>\n",
       "      <th>1</th>\n",
       "      <th>2</th>\n",
       "      <th>3</th>\n",
       "      <th>4</th>\n",
       "      <th>5</th>\n",
       "      <th>6</th>\n",
       "      <th>7</th>\n",
       "      <th>8</th>\n",
       "      <th>9</th>\n",
       "      <th>...</th>\n",
       "      <th>171</th>\n",
       "      <th>172</th>\n",
       "      <th>173</th>\n",
       "      <th>174</th>\n",
       "      <th>175</th>\n",
       "      <th>176</th>\n",
       "      <th>177</th>\n",
       "      <th>178</th>\n",
       "      <th>179</th>\n",
       "      <th>target</th>\n",
       "    </tr>\n",
       "  </thead>\n",
       "  <tbody>\n",
       "    <tr>\n",
       "      <th>0</th>\n",
       "      <td>0.006723</td>\n",
       "      <td>-0.019156</td>\n",
       "      <td>0.032603</td>\n",
       "      <td>0.006723</td>\n",
       "      <td>0.084363</td>\n",
       "      <td>0.032603</td>\n",
       "      <td>0.032603</td>\n",
       "      <td>0.006723</td>\n",
       "      <td>0.006723</td>\n",
       "      <td>0.084363</td>\n",
       "      <td>...</td>\n",
       "      <td>-0.536756</td>\n",
       "      <td>-0.562636</td>\n",
       "      <td>-0.614396</td>\n",
       "      <td>-0.588516</td>\n",
       "      <td>-0.666156</td>\n",
       "      <td>-0.640276</td>\n",
       "      <td>-0.640276</td>\n",
       "      <td>-0.588516</td>\n",
       "      <td>-0.640276</td>\n",
       "      <td>1</td>\n",
       "    </tr>\n",
       "    <tr>\n",
       "      <th>1</th>\n",
       "      <td>-0.122676</td>\n",
       "      <td>-0.200316</td>\n",
       "      <td>-0.200316</td>\n",
       "      <td>-0.252076</td>\n",
       "      <td>-0.226196</td>\n",
       "      <td>-0.174436</td>\n",
       "      <td>-0.122676</td>\n",
       "      <td>-0.174436</td>\n",
       "      <td>-0.174436</td>\n",
       "      <td>-0.174436</td>\n",
       "      <td>...</td>\n",
       "      <td>-0.562636</td>\n",
       "      <td>-0.510876</td>\n",
       "      <td>-0.510876</td>\n",
       "      <td>-0.536756</td>\n",
       "      <td>-0.562636</td>\n",
       "      <td>-0.588516</td>\n",
       "      <td>-0.588516</td>\n",
       "      <td>-0.614396</td>\n",
       "      <td>-0.562636</td>\n",
       "      <td>1</td>\n",
       "    </tr>\n",
       "    <tr>\n",
       "      <th>2</th>\n",
       "      <td>-0.355596</td>\n",
       "      <td>-0.407356</td>\n",
       "      <td>-0.252076</td>\n",
       "      <td>-0.277956</td>\n",
       "      <td>-0.252076</td>\n",
       "      <td>-0.277956</td>\n",
       "      <td>-0.277956</td>\n",
       "      <td>-0.329716</td>\n",
       "      <td>-0.277956</td>\n",
       "      <td>-0.200316</td>\n",
       "      <td>...</td>\n",
       "      <td>-0.329716</td>\n",
       "      <td>-0.355596</td>\n",
       "      <td>-0.407356</td>\n",
       "      <td>-0.433236</td>\n",
       "      <td>-0.433236</td>\n",
       "      <td>-0.355596</td>\n",
       "      <td>-0.303836</td>\n",
       "      <td>-0.407356</td>\n",
       "      <td>-0.381476</td>\n",
       "      <td>1</td>\n",
       "    </tr>\n",
       "    <tr>\n",
       "      <th>3</th>\n",
       "      <td>-0.200316</td>\n",
       "      <td>-0.200316</td>\n",
       "      <td>-0.226196</td>\n",
       "      <td>-0.252076</td>\n",
       "      <td>-0.200316</td>\n",
       "      <td>-0.122676</td>\n",
       "      <td>-0.122676</td>\n",
       "      <td>-0.148556</td>\n",
       "      <td>-0.148556</td>\n",
       "      <td>-0.174436</td>\n",
       "      <td>...</td>\n",
       "      <td>-0.614396</td>\n",
       "      <td>-0.614396</td>\n",
       "      <td>-0.614396</td>\n",
       "      <td>-0.588516</td>\n",
       "      <td>-0.614396</td>\n",
       "      <td>-0.743796</td>\n",
       "      <td>-0.717916</td>\n",
       "      <td>-0.743796</td>\n",
       "      <td>-0.666156</td>\n",
       "      <td>1</td>\n",
       "    </tr>\n",
       "    <tr>\n",
       "      <th>4</th>\n",
       "      <td>-0.174436</td>\n",
       "      <td>-0.174436</td>\n",
       "      <td>-0.174436</td>\n",
       "      <td>-0.096796</td>\n",
       "      <td>-0.096796</td>\n",
       "      <td>-0.096796</td>\n",
       "      <td>-0.200316</td>\n",
       "      <td>-0.226196</td>\n",
       "      <td>-0.174436</td>\n",
       "      <td>-0.122676</td>\n",
       "      <td>...</td>\n",
       "      <td>-0.459116</td>\n",
       "      <td>-0.459116</td>\n",
       "      <td>-0.510876</td>\n",
       "      <td>-0.536756</td>\n",
       "      <td>-0.614396</td>\n",
       "      <td>-0.614396</td>\n",
       "      <td>-0.536756</td>\n",
       "      <td>-0.536756</td>\n",
       "      <td>-0.588516</td>\n",
       "      <td>1</td>\n",
       "    </tr>\n",
       "  </tbody>\n",
       "</table>\n",
       "<p>5 rows × 181 columns</p>\n",
       "</div>"
      ],
      "text/plain": [
       "          0         1         2         3         4         5         6  \\\n",
       "0  0.006723 -0.019156  0.032603  0.006723  0.084363  0.032603  0.032603   \n",
       "1 -0.122676 -0.200316 -0.200316 -0.252076 -0.226196 -0.174436 -0.122676   \n",
       "2 -0.355596 -0.407356 -0.252076 -0.277956 -0.252076 -0.277956 -0.277956   \n",
       "3 -0.200316 -0.200316 -0.226196 -0.252076 -0.200316 -0.122676 -0.122676   \n",
       "4 -0.174436 -0.174436 -0.174436 -0.096796 -0.096796 -0.096796 -0.200316   \n",
       "\n",
       "          7         8         9  ...       171       172       173       174  \\\n",
       "0  0.006723  0.006723  0.084363  ... -0.536756 -0.562636 -0.614396 -0.588516   \n",
       "1 -0.174436 -0.174436 -0.174436  ... -0.562636 -0.510876 -0.510876 -0.536756   \n",
       "2 -0.329716 -0.277956 -0.200316  ... -0.329716 -0.355596 -0.407356 -0.433236   \n",
       "3 -0.148556 -0.148556 -0.174436  ... -0.614396 -0.614396 -0.614396 -0.588516   \n",
       "4 -0.226196 -0.174436 -0.122676  ... -0.459116 -0.459116 -0.510876 -0.536756   \n",
       "\n",
       "        175       176       177       178       179  target  \n",
       "0 -0.666156 -0.640276 -0.640276 -0.588516 -0.640276       1  \n",
       "1 -0.562636 -0.588516 -0.588516 -0.614396 -0.562636       1  \n",
       "2 -0.433236 -0.355596 -0.303836 -0.407356 -0.381476       1  \n",
       "3 -0.614396 -0.743796 -0.717916 -0.743796 -0.666156       1  \n",
       "4 -0.614396 -0.614396 -0.536756 -0.536756 -0.588516       1  \n",
       "\n",
       "[5 rows x 181 columns]"
      ]
     },
     "execution_count": 6,
     "metadata": {},
     "output_type": "execute_result"
    }
   ],
   "source": [
    "x.head()"
   ]
  },
  {
   "cell_type": "code",
   "execution_count": 7,
   "id": "bb1861da",
   "metadata": {},
   "outputs": [],
   "source": [
    "# y.value_counts()"
   ]
  },
  {
   "cell_type": "code",
   "execution_count": 8,
   "id": "5abd9edc",
   "metadata": {},
   "outputs": [],
   "source": [
    "# y.replace(['VEB','SVEB','F','Q'],'Arrhythmia',inplace=True)\n",
    "# y.replace(['N'],'Normal',inplace=True)"
   ]
  },
  {
   "cell_type": "code",
   "execution_count": 9,
   "id": "80a0222e",
   "metadata": {},
   "outputs": [],
   "source": [
    "# y.value_counts()"
   ]
  },
  {
   "cell_type": "code",
   "execution_count": 10,
   "id": "6ff79f10",
   "metadata": {},
   "outputs": [],
   "source": [
    "from sklearn.model_selection import train_test_split\n",
    "x_train,x_test,y_train,y_test=train_test_split(x,y,random_state=101)\n"
   ]
  },
  {
   "cell_type": "code",
   "execution_count": 19,
   "id": "eb2dfa1c",
   "metadata": {},
   "outputs": [
    {
     "data": {
      "text/html": [
       "<div>\n",
       "<style scoped>\n",
       "    .dataframe tbody tr th:only-of-type {\n",
       "        vertical-align: middle;\n",
       "    }\n",
       "\n",
       "    .dataframe tbody tr th {\n",
       "        vertical-align: top;\n",
       "    }\n",
       "\n",
       "    .dataframe thead th {\n",
       "        text-align: right;\n",
       "    }\n",
       "</style>\n",
       "<table border=\"1\" class=\"dataframe\">\n",
       "  <thead>\n",
       "    <tr style=\"text-align: right;\">\n",
       "      <th></th>\n",
       "      <th>target</th>\n",
       "    </tr>\n",
       "  </thead>\n",
       "  <tbody>\n",
       "    <tr>\n",
       "      <th>22151</th>\n",
       "      <td>1</td>\n",
       "    </tr>\n",
       "    <tr>\n",
       "      <th>100574</th>\n",
       "      <td>3</td>\n",
       "    </tr>\n",
       "    <tr>\n",
       "      <th>87680</th>\n",
       "      <td>1</td>\n",
       "    </tr>\n",
       "    <tr>\n",
       "      <th>66886</th>\n",
       "      <td>1</td>\n",
       "    </tr>\n",
       "    <tr>\n",
       "      <th>8389</th>\n",
       "      <td>1</td>\n",
       "    </tr>\n",
       "    <tr>\n",
       "      <th>...</th>\n",
       "      <td>...</td>\n",
       "    </tr>\n",
       "    <tr>\n",
       "      <th>5695</th>\n",
       "      <td>2</td>\n",
       "    </tr>\n",
       "    <tr>\n",
       "      <th>73542</th>\n",
       "      <td>0</td>\n",
       "    </tr>\n",
       "    <tr>\n",
       "      <th>83281</th>\n",
       "      <td>1</td>\n",
       "    </tr>\n",
       "    <tr>\n",
       "      <th>83467</th>\n",
       "      <td>1</td>\n",
       "    </tr>\n",
       "    <tr>\n",
       "      <th>45919</th>\n",
       "      <td>1</td>\n",
       "    </tr>\n",
       "  </tbody>\n",
       "</table>\n",
       "<p>80831 rows × 1 columns</p>\n",
       "</div>"
      ],
      "text/plain": [
       "        target\n",
       "22151        1\n",
       "100574       3\n",
       "87680        1\n",
       "66886        1\n",
       "8389         1\n",
       "...        ...\n",
       "5695         2\n",
       "73542        0\n",
       "83281        1\n",
       "83467        1\n",
       "45919        1\n",
       "\n",
       "[80831 rows x 1 columns]"
      ]
     },
     "execution_count": 19,
     "metadata": {},
     "output_type": "execute_result"
    }
   ],
   "source": [
    "y_train"
   ]
  },
  {
   "cell_type": "code",
   "execution_count": 11,
   "id": "8516776b",
   "metadata": {},
   "outputs": [
    {
     "name": "stdout",
     "output_type": "stream",
     "text": [
      "[0.05335644 0.0533923  0.05333365 0.05325077 0.05300367 0.05242492\n",
      " 0.05216204 0.05228688 0.05250365 0.0529202  0.05268726 0.05286096\n",
      " 0.05242175 0.05268726 0.05281464 0.05276839 0.05296671 0.05272223\n",
      " 0.05231974 0.05241075 0.05237619 0.05230721 0.05223841 0.05224934\n",
      " 0.0519326  0.05197739 0.05180944 0.05212467 0.05214801 0.05203466\n",
      " 0.05227279 0.0521589  0.05228373 0.05250047 0.05231659 0.0521231\n",
      " 0.05200986 0.05197583 0.05223684 0.05238559 0.05216979 0.05201142\n",
      " 0.05195421 0.05196502 0.05197583 0.05222434 0.05220093 0.05199748\n",
      " 0.05204238 0.05220093 0.05232597 0.05220093 0.05224619 0.05208736\n",
      " 0.05153897 0.05170517 0.05186168 0.05222277 0.05215419 0.05192793\n",
      " 0.0514934  0.05133911 0.05162574 0.05181554 0.05133911 0.05080629\n",
      " 0.0502526  0.04985549 0.04993812 0.0504528  0.05090247 0.05129389\n",
      " 0.05125027 0.05169293 0.05249729 0.05423059 0.05485187 0.05449101\n",
      " 0.05335151 0.05225712 0.05050675 0.04878934 0.04763502 0.04790005\n",
      " 0.04969525 0.05171347 0.04954234 0.04748652 0.04596452 0.04465455\n",
      " 0.04367519 0.04401182 0.04545825 0.04776627 0.04860623 0.05019972\n",
      " 0.05190252 0.05092558 0.05010654 0.04991196 0.04909359 0.04853729\n",
      " 0.04888349 0.04893784 0.04933709 0.04950339 0.0497429  0.04910142\n",
      " 0.04905455 0.0495272  0.04962282 0.04996042 0.05010653 0.04955105\n",
      " 0.04919538 0.04940817 0.04924251 0.04969477 0.04950333 0.04924251\n",
      " 0.04905454 0.04907796 0.04938445 0.04957496 0.04928973 0.04903114\n",
      " 0.04875213 0.04891451 0.04907796 0.04926612 0.04933705 0.0489611\n",
      " 0.04884479 0.0488216  0.0488448  0.04898443 0.04893777 0.04868285\n",
      " 0.04854493 0.0486138  0.048868   0.04914833 0.04896107 0.04859081\n",
      " 0.04833948 0.04836222 0.048522   0.04863677 0.04875209 0.04838496\n",
      " 0.04820347 0.04820347 0.04852199 0.04877521 0.0487752  0.04868281\n",
      " 0.04865976 0.04854488 0.04868281 0.04905447 0.04938435 0.04905445\n",
      " 0.04903106 0.04879831 0.04896099 0.04924239 0.04924239 0.04903102\n",
      " 0.04875199 0.04872888 0.04889109 0.04900761 0.04914819 0.04872885\n",
      " 0.04845326 0.04838483 0.04870576 0.04912467 0.04898424 0.0488214\n",
      " 0.25      ]\n"
     ]
    }
   ],
   "source": [
    "from sklearn import preprocessing\n",
    "min_max_scaler=preprocessing.MinMaxScaler()\n",
    "x_train_scaled=min_max_scaler.fit_transform(x_train)\n",
    "x_test_scaled=min_max_scaler.transform(x_test)\n",
    "print(min_max_scaler.scale_)"
   ]
  },
  {
   "cell_type": "code",
   "execution_count": 12,
   "id": "0e54ca66",
   "metadata": {},
   "outputs": [
    {
     "data": {
      "text/plain": [
       "array([[0.53092694, 0.53424704, 0.53839008, ..., 0.50693734, 0.50525206,\n",
       "        0.25      ],\n",
       "       [0.53899377, 0.54671103, 0.55199634, ..., 0.50603736, 0.50488415,\n",
       "        0.75      ],\n",
       "       [0.54879529, 0.55271283, 0.55564718, ..., 0.46545784, 0.46296073,\n",
       "        0.25      ],\n",
       "       ...,\n",
       "       [0.55002952, 0.55080093, 0.55188335, ..., 0.41505805, 0.41095732,\n",
       "        0.25      ],\n",
       "       [0.59261484, 0.59341487, 0.59735279, ..., 0.47503448, 0.47029157,\n",
       "        0.25      ],\n",
       "       [0.52769471, 0.52893535, 0.53216404, ..., 0.40449595, 0.40325861,\n",
       "        0.25      ]])"
      ]
     },
     "execution_count": 12,
     "metadata": {},
     "output_type": "execute_result"
    }
   ],
   "source": [
    "x_train_scaled"
   ]
  },
  {
   "cell_type": "code",
   "execution_count": 13,
   "id": "5c469d5a",
   "metadata": {},
   "outputs": [
    {
     "name": "stderr",
     "output_type": "stream",
     "text": [
      "C:\\Users\\student\\AppData\\Local\\Temp\\ipykernel_15500\\25360891.py:4: DataConversionWarning: A column-vector y was passed when a 1d array was expected. Please change the shape of y to (n_samples,), for example using ravel().\n",
      "  model.fit(x_train_scaled,y_train)\n"
     ]
    },
    {
     "name": "stdout",
     "output_type": "stream",
     "text": [
      "Accuracy for the train data 1.0\n"
     ]
    }
   ],
   "source": [
    "#Random Forest train \n",
    "from sklearn.ensemble import RandomForestClassifier\n",
    "model=RandomForestClassifier(random_state=101,n_estimators=150)\n",
    "model.fit(x_train_scaled,y_train)\n",
    "print('Accuracy for the train data',model.score(x_train_scaled,y_train))\n"
   ]
  },
  {
   "cell_type": "code",
   "execution_count": 14,
   "id": "eb1f8b63",
   "metadata": {},
   "outputs": [
    {
     "name": "stderr",
     "output_type": "stream",
     "text": [
      "C:\\ProgramData\\Anaconda3\\lib\\site-packages\\sklearn\\utils\\validation.py:993: DataConversionWarning: A column-vector y was passed when a 1d array was expected. Please change the shape of y to (n_samples, ), for example using ravel().\n",
      "  y = column_or_1d(y, warn=True)\n"
     ]
    },
    {
     "name": "stdout",
     "output_type": "stream",
     "text": [
      "Accuracy for the train data 1.0\n"
     ]
    }
   ],
   "source": [
    "#Logistic Regression train\n",
    "from sklearn.linear_model import LogisticRegression\n",
    "clf=LogisticRegression(random_state=101,solver='lbfgs', max_iter=1000)\n",
    "clf.fit(x_train_scaled,y_train)\n",
    "print('Accuracy for the train data',model.score(x_train_scaled,y_train))"
   ]
  },
  {
   "cell_type": "code",
   "execution_count": 15,
   "id": "1387bc48",
   "metadata": {},
   "outputs": [
    {
     "name": "stdout",
     "output_type": "stream",
     "text": [
      "Accuracy 0.9979958432304038\n",
      "Confusion Metrics\n",
      "[[  154    28     0     0     0]\n",
      " [    0 22532     1     0     0]\n",
      " [    0     2  1942     3     3]\n",
      " [    0     3     0   653     7]\n",
      " [    0     2     0     5  1609]]\n"
     ]
    }
   ],
   "source": [
    "#Random Forest predict\n",
    "from sklearn import metrics\n",
    "y_pred=model.predict(x_test_scaled)\n",
    "print('Accuracy',metrics.accuracy_score(y_test,y_pred))\n",
    "print('Confusion Metrics')\n",
    "print(metrics.confusion_matrix(y_test,y_pred))"
   ]
  },
  {
   "cell_type": "code",
   "execution_count": 16,
   "id": "4f0c788c",
   "metadata": {},
   "outputs": [
    {
     "name": "stdout",
     "output_type": "stream",
     "text": [
      "Accuracy 0.9979216152019003\n",
      "Confusion Metrics\n",
      "[[  154    28     0     0     0]\n",
      " [    0 22532     1     0     0]\n",
      " [    0     2  1942     3     3]\n",
      " [    0     3     0   653     7]\n",
      " [    0     2     0     5  1609]]\n"
     ]
    }
   ],
   "source": [
    "#Logistic Regression Predict\n",
    "from sklearn import metrics\n",
    "y_pred2=clf.predict(x_test_scaled)\n",
    "print('Accuracy',metrics.accuracy_score(y_test,y_pred2))\n",
    "print('Confusion Metrics')\n",
    "print(metrics.confusion_matrix(y_test,y_pred))"
   ]
  },
  {
   "cell_type": "code",
   "execution_count": 18,
   "id": "db63575c",
   "metadata": {},
   "outputs": [
    {
     "name": "stderr",
     "output_type": "stream",
     "text": [
      "C:\\ProgramData\\Anaconda3\\lib\\site-packages\\sklearn\\utils\\validation.py:993: DataConversionWarning: A column-vector y was passed when a 1d array was expected. Please change the shape of y to (n_samples, ), for example using ravel().\n",
      "  y = column_or_1d(y, warn=True)\n"
     ]
    },
    {
     "name": "stdout",
     "output_type": "stream",
     "text": [
      "accuracy score;-  0.9995546318289786\n",
      "[[  181     1     0     0     0]\n",
      " [    0 22533     0     0     0]\n",
      " [    0     4  1946     0     0]\n",
      " [    0     2     0   661     0]\n",
      " [    0     5     0     0  1611]]\n"
     ]
    }
   ],
   "source": [
    "#SVM model\n",
    "from sklearn.svm import SVC\n",
    "svc=SVC()\n",
    "svc.fit(x_train_scaled,y_train)\n",
    "y_pred=svc.predict(x_test_scaled)\n",
    "print('accuracy score;- ',metrics.accuracy_score(y_test,y_pred))\n",
    "print(metrics.confusion_matrix(y_test,y_pred))"
   ]
  },
  {
   "cell_type": "code",
   "execution_count": null,
   "id": "a160f36d",
   "metadata": {},
   "outputs": [],
   "source": []
  },
  {
   "cell_type": "code",
   "execution_count": null,
   "id": "5ac00c6d",
   "metadata": {},
   "outputs": [],
   "source": []
  }
 ],
 "metadata": {
  "kernelspec": {
   "display_name": "Python 3 (ipykernel)",
   "language": "python",
   "name": "python3"
  },
  "language_info": {
   "codemirror_mode": {
    "name": "ipython",
    "version": 3
   },
   "file_extension": ".py",
   "mimetype": "text/x-python",
   "name": "python",
   "nbconvert_exporter": "python",
   "pygments_lexer": "ipython3",
   "version": "3.9.13"
  }
 },
 "nbformat": 4,
 "nbformat_minor": 5
}
